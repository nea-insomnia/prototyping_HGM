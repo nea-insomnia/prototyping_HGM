{
 "cells": [
  {
   "cell_type": "code",
   "execution_count": 1,
   "id": "97c9bbb8",
   "metadata": {},
   "outputs": [],
   "source": [
    "import image_similarity_measures\n",
    "#from image_similarity_measures.quality_metrics import rmse, psnr\n",
    "from image_similarity_measures.quality_metrics import metric_functions\n",
    "import cv2\n",
    "import pandas as pd\n",
    "import numpy as np\n",
    "from typing import List, Tuple\n",
    "import time\n",
    "import matplotlib.pyplot as plt\n",
    "import seaborn as sns\n",
    "import seaborn_image as isns\n",
    "from PIL import Image, ImageOps\n",
    "import glob\n",
    "#import PIL\n"
   ]
  },
  {
   "cell_type": "code",
   "execution_count": 2,
   "id": "66bb8c75",
   "metadata": {},
   "outputs": [],
   "source": [
    "#VAR declarations\n",
    "all_metrics =  ['ssim']\n",
    "# maximum umber of frames to capture\n",
    "max_frames = 150\n",
    "\n",
    "comparison_images = []\n",
    "\n",
    "#comparison_images = [Image.open(img) for img in glob.glob(\"img/*.jpg\")]\n",
    "#image_labels = [img.split(\"/\",1)[-1] for img in glob.glob(\"img/*.jpg\")]\n",
    "#comparison_images = [img for img in glob.glob(\"img/*.jpg\")]"
   ]
  },
  {
   "cell_type": "code",
   "execution_count": 3,
   "id": "20e955aa",
   "metadata": {},
   "outputs": [],
   "source": [
    "cap = cv2.VideoCapture('testvid.mov')\n",
    "#Or most common ID for webcams:\n",
    "#cap = cv2.VideoCapture(0)"
   ]
  },
  {
   "cell_type": "code",
   "execution_count": 4,
   "id": "3f425dd9",
   "metadata": {},
   "outputs": [
    {
     "name": "stdout",
     "output_type": "stream",
     "text": [
      "Frames per second using video.get(cv2.CAP_PROP_FPS) : 30.029060381013885\n"
     ]
    }
   ],
   "source": [
    "fps = cap.get(cv2.CAP_PROP_FPS)\n",
    "print(f\"Frames per second using video.get(cv2.CAP_PROP_FPS) : {fps}\")"
   ]
  },
  {
   "cell_type": "code",
   "execution_count": 5,
   "id": "1a382d3c",
   "metadata": {},
   "outputs": [
    {
     "name": "stdout",
     "output_type": "stream",
     "text": [
      "frame_0.jpg\n",
      "frame_30.jpg\n",
      "frame_60.jpg\n",
      "frame_90.jpg\n",
      "frame_120.jpg\n",
      "frame_150.jpg\n"
     ]
    },
    {
     "data": {
      "text/plain": [
       "180"
      ]
     },
     "execution_count": 5,
     "metadata": {},
     "output_type": "execute_result"
    }
   ],
   "source": [
    "frame_nr = 0\n",
    "#ensure how to handle exeptions\n",
    "while cap.isOpened():\n",
    "    ret, frame = cap.read()\n",
    "\n",
    "    if ret:\n",
    "        frame_name = f\"frame_{frame_nr}.jpg\" \n",
    "        print(frame_name)\n",
    "        #cv2.imwrite(f\"frame{frame_nr}.jpg\", frame)\n",
    "        #i.e. at 30 fps, this advances one second\n",
    "        #int(fps) for rounding\n",
    "        frame_nr += int(fps)  \n",
    "        cap.set(cv2.CAP_PROP_POS_FRAMES, frame_nr)\n",
    "        comparison_images.append(tuple([frame_name,frame]))\n",
    "    else:\n",
    "        cap.release()\n",
    "        break\n",
    "frame_nr"
   ]
  },
  {
   "cell_type": "code",
   "execution_count": 6,
   "id": "578183a8",
   "metadata": {},
   "outputs": [
    {
     "data": {
      "text/plain": [
       "'frame_0.jpg'"
      ]
     },
     "execution_count": 6,
     "metadata": {},
     "output_type": "execute_result"
    }
   ],
   "source": [
    "comparison_images[0][0]"
   ]
  },
  {
   "cell_type": "code",
   "execution_count": 7,
   "id": "ca71156f",
   "metadata": {},
   "outputs": [],
   "source": [
    "\n",
    "#cap.release()"
   ]
  },
  {
   "cell_type": "code",
   "execution_count": 8,
   "id": "64f725ac",
   "metadata": {},
   "outputs": [],
   "source": [
    "def compare(df: pd.DataFrame, frame_a: Tuple[str, np.ndarray], frame_b:Tuple[str, np.ndarray], metrics: List[str]) -> pd.DataFrame:\n",
    "    #img_a = cv2.imread(path_a)\n",
    "    #img_b = cv2.imread(path_b)\n",
    "    img_name_a = frame_a[0]\n",
    "    img_name_b = frame_b[0]\n",
    "    \n",
    "    img_a = frame_a[1]\n",
    "    img_b = frame_b[1]\n",
    "    \n",
    "\n",
    "    for metric in metrics:\n",
    "        metric_func = metric_functions[metric]\n",
    "        start_time = time.time()\n",
    "        out_value = float(metric_func(img_a, img_b))\n",
    "        end_time = time.time()\n",
    "        output_dict = {}\n",
    "        output_dict['metric'] = metric\n",
    "        output_dict['x'] = img_name_a\n",
    "        output_dict['y'] = img_name_b\n",
    "        output_dict['value'] = out_value\n",
    "        output_dict['walltime'] = end_time - start_time\n",
    "        df = df.append(output_dict,ignore_index=True)\n",
    "        output_dict['x'] = img_name_a\n",
    "        output_dict['y'] = img_name_b\n",
    "        df = df.append(output_dict,ignore_index=True)\n",
    "        \n",
    "    return df\n"
   ]
  },
  {
   "cell_type": "code",
   "execution_count": 9,
   "id": "186d8380",
   "metadata": {},
   "outputs": [],
   "source": [
    "df = pd.DataFrame()\n",
    "for idx_x, x in enumerate(comparison_images):\n",
    "    for idx_y, y in enumerate(comparison_images):\n",
    "        # remove duplicate comparisons: (x,y) == (y,x) or (x,x)\n",
    "        if idx_x >= idx_y:\n",
    "            continue\n",
    "        df = compare(df, x, y, all_metrics)\n",
    "#df\n"
   ]
  },
  {
   "cell_type": "code",
   "execution_count": null,
   "id": "74a67ea0",
   "metadata": {},
   "outputs": [],
   "source": []
  },
  {
   "cell_type": "code",
   "execution_count": null,
   "id": "b91484ac",
   "metadata": {},
   "outputs": [],
   "source": []
  }
 ],
 "metadata": {
  "kernelspec": {
   "display_name": "work-env-kernel",
   "language": "python",
   "name": "work-env-kernel"
  },
  "language_info": {
   "codemirror_mode": {
    "name": "ipython",
    "version": 3
   },
   "file_extension": ".py",
   "mimetype": "text/x-python",
   "name": "python",
   "nbconvert_exporter": "python",
   "pygments_lexer": "ipython3",
   "version": "3.9.9"
  }
 },
 "nbformat": 4,
 "nbformat_minor": 5
}
