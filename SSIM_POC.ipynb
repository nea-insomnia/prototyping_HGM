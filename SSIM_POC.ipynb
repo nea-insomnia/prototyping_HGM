{
 "cells": [
  {
   "cell_type": "code",
   "execution_count": 1,
   "id": "97c9bbb8",
   "metadata": {},
   "outputs": [],
   "source": [
    "import image_similarity_measures\n",
    "#from image_similarity_measures.quality_metrics import rmse, psnr\n",
    "from image_similarity_measures.quality_metrics import metric_functions\n",
    "import cv2\n",
    "import pandas as pd\n",
    "import numpy as np\n",
    "from typing import List\n",
    "import time\n",
    "import matplotlib.pyplot as plt\n",
    "import seaborn as sns\n",
    "import seaborn_image as isns\n",
    "from PIL import Image, ImageOps\n",
    "import glob\n",
    "#import PIL\n"
   ]
  },
  {
   "cell_type": "code",
   "execution_count": 2,
   "id": "66bb8c75",
   "metadata": {},
   "outputs": [],
   "source": [
    "#VAR declarations\n",
    "all_metrics =  ['ssim']\n",
    "# maximum umber of frames to capture\n",
    "max_frames = 150;\n",
    "\n",
    "#comparison_images = [Image.open(img) for img in glob.glob(\"img/*.jpg\")]\n",
    "#image_labels = [img.split(\"/\",1)[-1] for img in glob.glob(\"img/*.jpg\")]\n",
    "#comparison_images = [img for img in glob.glob(\"img/*.jpg\")]"
   ]
  },
  {
   "cell_type": "code",
   "execution_count": 3,
   "id": "20e955aa",
   "metadata": {},
   "outputs": [],
   "source": [
    "cap = cv2.VideoCapture('testvid.mov')\n",
    "#Or most common ID for webcams:\n",
    "#cap = cv2.VideoCapture(0)"
   ]
  },
  {
   "cell_type": "code",
   "execution_count": 6,
   "id": "3f425dd9",
   "metadata": {},
   "outputs": [
    {
     "name": "stdout",
     "output_type": "stream",
     "text": [
      "Frames per second using video.get(cv2.CAP_PROP_FPS) : 30.029060381013885\n"
     ]
    }
   ],
   "source": [
    "fps = cap.get(cv2.CAP_PROP_FPS)\n",
    "print(f\"Frames per second using video.get(cv2.CAP_PROP_FPS) : {fps}\")"
   ]
  },
  {
   "cell_type": "code",
   "execution_count": null,
   "id": "1a382d3c",
   "metadata": {},
   "outputs": [],
   "source": [
    "frame_nr = 0\n",
    "while cap.isOpened():\n",
    "    ret, frame = cap.read()\n",
    "\n",
    "    if ret:\n",
    "        print(f\"frame{frame_nr}\")\n",
    "        #cv2.imwrite(f\"frame{frame_nr}.jpg\", frame)\n",
    "        #i.e. at 30 fps, this advances one second\n",
    "        #int(fps) for rounding\n",
    "        frame_nr += int(fps)  \n",
    "        cap.set(cv2.CAP_PROP_POS_FRAMES, frame_nr)\n",
    "    else:\n",
    "        cap.release()\n",
    "        break"
   ]
  },
  {
   "cell_type": "code",
   "execution_count": null,
   "id": "578183a8",
   "metadata": {},
   "outputs": [],
   "source": []
  },
  {
   "cell_type": "code",
   "execution_count": null,
   "id": "ca71156f",
   "metadata": {},
   "outputs": [],
   "source": [
    "\n",
    "#cap.release()"
   ]
  },
  {
   "cell_type": "code",
   "execution_count": null,
   "id": "64f725ac",
   "metadata": {},
   "outputs": [],
   "source": [
    "def compare(df: pd.DataFrame, path_a: str, path_b: str, metrics: List[str]) -> pd.DataFrame:\n",
    "    img_a = cv2.imread(path_a)\n",
    "    img_b = cv2.imread(path_b)\n",
    "\n",
    "    for metric in metrics:\n",
    "        metric_func = metric_functions[metric]\n",
    "        start_time = time.time()\n",
    "        out_value = float(metric_func(img_a, img_b))\n",
    "        end_time = time.time()\n",
    "        output_dict = {}\n",
    "        output_dict['metric'] = metric\n",
    "        output_dict['x'] = path_a\n",
    "        output_dict['y'] = path_b\n",
    "        output_dict['value'] = out_value\n",
    "        output_dict['walltime'] = end_time - start_time\n",
    "        df = df.append(output_dict,ignore_index=True)\n",
    "        output_dict['x'] = path_b\n",
    "        output_dict['y'] = path_a\n",
    "        df = df.append(output_dict,ignore_index=True)\n",
    "        \n",
    "    return df\n"
   ]
  },
  {
   "cell_type": "code",
   "execution_count": null,
   "id": "186d8380",
   "metadata": {},
   "outputs": [],
   "source": [
    "df = pd.DataFrame()\n",
    "for idx_x, x in enumerate(comparison_images):\n",
    "    for idx_y, y in enumerate(comparison_images):\n",
    "        # remove duplicate comparisons: (x,y) == (y,x) or (x,x)\n",
    "        if idx_x >= idx_y:\n",
    "            continue\n",
    "        df = compare(df, x, y, all_metrics)\n",
    "#df\n"
   ]
  },
  {
   "cell_type": "code",
   "execution_count": null,
   "id": "74a67ea0",
   "metadata": {},
   "outputs": [],
   "source": []
  },
  {
   "cell_type": "code",
   "execution_count": null,
   "id": "b91484ac",
   "metadata": {},
   "outputs": [],
   "source": []
  }
 ],
 "metadata": {
  "kernelspec": {
   "display_name": "work-env-kernel",
   "language": "python",
   "name": "work-env-kernel"
  },
  "language_info": {
   "codemirror_mode": {
    "name": "ipython",
    "version": 3
   },
   "file_extension": ".py",
   "mimetype": "text/x-python",
   "name": "python",
   "nbconvert_exporter": "python",
   "pygments_lexer": "ipython3",
   "version": "3.9.9"
  }
 },
 "nbformat": 4,
 "nbformat_minor": 5
}
